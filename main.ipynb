{
  "nbformat": 4,
  "nbformat_minor": 0,
  "metadata": {
    "colab": {
      "provenance": [],
      "authorship_tag": "ABX9TyMvl9VWIQ/SPNqzmBCaPEzy",
      "include_colab_link": true
    },
    "kernelspec": {
      "name": "python3",
      "display_name": "Python 3"
    },
    "language_info": {
      "name": "python"
    }
  },
  "cells": [
    {
      "cell_type": "markdown",
      "metadata": {
        "id": "view-in-github",
        "colab_type": "text"
      },
      "source": [
        "<a href=\"https://colab.research.google.com/github/poku0857643/Cancer-classification/blob/main/main.ipynb\" target=\"_parent\"><img src=\"https://colab.research.google.com/assets/colab-badge.svg\" alt=\"Open In Colab\"/></a>"
      ]
    },
    {
      "cell_type": "code",
      "source": [
        "# main\n",
        "file_url = 'http://github.com/poku0857643/Cancer-classification/raw/main/cancer_gene_expression.zip'\n",
        "x_train_norm, x_test_norm, y_train, y_test, labels = data_preprocessing(file_url)\n",
        "x_train_selected, selected_indices = feature_selection(x_train_norm, y_train)\n",
        "x_test_selected = x_test_norm[:, selected_indices]\n",
        "y_pred, pred_prob = train_and_predict_RF(x_train_selected, y_train, x_test_selected)\n",
        "cm_df = generate_cm_dataframe(y_test, y_pred, labels)\n",
        "print(cm_df)\n",
        "plot_confusion_matrix(cm_df)\n",
        "plot_multiclass_roc(y_test, pred_prob, classes, labels)\n"
      ],
      "metadata": {
        "id": "-NZFwGdwt4rZ"
      },
      "execution_count": null,
      "outputs": []
    }
  ]
}