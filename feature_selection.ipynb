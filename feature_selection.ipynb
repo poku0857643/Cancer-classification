{
  "nbformat": 4,
  "nbformat_minor": 0,
  "metadata": {
    "colab": {
      "provenance": [],
      "authorship_tag": "ABX9TyNgnj4AmLUMhvQJMSLXpbvM",
      "include_colab_link": true
    },
    "kernelspec": {
      "name": "python3",
      "display_name": "Python 3"
    },
    "language_info": {
      "name": "python"
    }
  },
  "cells": [
    {
      "cell_type": "markdown",
      "metadata": {
        "id": "view-in-github",
        "colab_type": "text"
      },
      "source": [
        "<a href=\"https://colab.research.google.com/github/poku0857643/Cancer-classification/blob/main/feature_selection.ipynb\" target=\"_parent\"><img src=\"https://colab.research.google.com/assets/colab-badge.svg\" alt=\"Open In Colab\"/></a>"
      ]
    },
    {
      "cell_type": "code",
      "execution_count": null,
      "metadata": {
        "id": "-Zxv7oa0ZL2s"
      },
      "outputs": [],
      "source": [
        "from sklearn.preprocessing import LabelEncoder, MinMaxScaler\n",
        "from sklearn.model_selection import train_test_split\n",
        "from sklearn.feature_selection import mutual_info_classif\n",
        "import pandas as pd\n",
        "import numpy as np\n",
        "\n",
        "def feature_selection(x_train, y_train, n_features=300):\n",
        "    \"\"\"\n",
        "    Select the top features based on mutual information.\n",
        "\n",
        "    Parameters:\n",
        "    - x_train: Normalized training data\n",
        "    - y_train: Encoded training labels\n",
        "    - n_features: Number of top features to select\n",
        "\n",
        "    Returns:\n",
        "    - x_train_selected: Training data with selected features\n",
        "    - x_test_selected: Testing data with selected features\n",
        "    \"\"\"\n",
        "    MI = mutual_info_classif(x_train, y_train)\n",
        "    selected_scores_indices = np.argsort(MI)[::-1][0:n_features]\n",
        "    x_train_selected = x_train[:, selected_scores_indices]\n",
        "\n",
        "    return x_train_selected, selected_scores_indices"
      ]
    }
  ]
}