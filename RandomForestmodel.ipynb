{
  "nbformat": 4,
  "nbformat_minor": 0,
  "metadata": {
    "colab": {
      "provenance": [],
      "authorship_tag": "ABX9TyPqgPraOpiBzp9bPU3VFwPN",
      "include_colab_link": true
    },
    "kernelspec": {
      "name": "python3",
      "display_name": "Python 3"
    },
    "language_info": {
      "name": "python"
    }
  },
  "cells": [
    {
      "cell_type": "markdown",
      "metadata": {
        "id": "view-in-github",
        "colab_type": "text"
      },
      "source": [
        "<a href=\"https://colab.research.google.com/github/poku0857643/Cancer-classification/blob/main/RandomForestmodel.ipynb\" target=\"_parent\"><img src=\"https://colab.research.google.com/assets/colab-badge.svg\" alt=\"Open In Colab\"/></a>"
      ]
    },
    {
      "cell_type": "code",
      "execution_count": null,
      "metadata": {
        "id": "-Zxv7oa0ZL2s"
      },
      "outputs": [],
      "source": [
        "from sklearn.multiclass import OneVsRestClassifier\n",
        "from sklearn.ensemble import RandomForestClassifier\n",
        "\n",
        "def train_and_predict_RF(x_train, y_train, x_test):\n",
        "    # 創建模型\n",
        "    RF = OneVsRestClassifier(RandomForestClassifier(max_features=0.2))\n",
        "    # 訓練模型\n",
        "    RF.fit(x_train, y_train)\n",
        "    # 進行預測\n",
        "    y_pred = RF.predict(x_test)\n",
        "    pred_prob = RF.predict_proba(x_test)\n",
        "\n",
        "    return y_pred, pred_prob"
      ]
    }
  ]
}