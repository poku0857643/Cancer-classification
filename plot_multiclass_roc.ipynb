{
  "nbformat": 4,
  "nbformat_minor": 0,
  "metadata": {
    "colab": {
      "provenance": [],
      "authorship_tag": "ABX9TyNb7bpcujkJ80lsQ7/wgkfA",
      "include_colab_link": true
    },
    "kernelspec": {
      "name": "python3",
      "display_name": "Python 3"
    },
    "language_info": {
      "name": "python"
    }
  },
  "cells": [
    {
      "cell_type": "markdown",
      "metadata": {
        "id": "view-in-github",
        "colab_type": "text"
      },
      "source": [
        "<a href=\"https://colab.research.google.com/github/poku0857643/Cancer-classification/blob/main/plot_multiclass_roc.ipynb\" target=\"_parent\"><img src=\"https://colab.research.google.com/assets/colab-badge.svg\" alt=\"Open In Colab\"/></a>"
      ]
    },
    {
      "cell_type": "code",
      "execution_count": null,
      "metadata": {
        "id": "-Zxv7oa0ZL2s"
      },
      "outputs": [],
      "source": [
        "from sklearn.metrics import roc_curve, auc\n",
        "from sklearn.preprocessing import label_binarize\n",
        "import matplotlib.pyplot as plt\n",
        "\n",
        "def plot_multiclass_roc(y_test, pred_prob, classes, labels):\n",
        "    \"\"\"\n",
        "    Plot a multiclass ROC curve for the given true labels and predicted probabilities.\n",
        "\n",
        "    Parameters:\n",
        "    - y_test: True labels\n",
        "    - pred_prob: Predicted probabilities\n",
        "    - classes: Unique class labels\n",
        "    - labels: Class names or descriptions\n",
        "\n",
        "    Returns:\n",
        "    - None\n",
        "    \"\"\"\n",
        "    y_test_binarized = label_binarize(y_test, classes=classes)\n",
        "\n",
        "    fpr = {}\n",
        "    tpr = {}\n",
        "    thresh = {}\n",
        "    roc_auc = dict()\n",
        "\n",
        "    n_class = classes.shape[0]\n",
        "\n",
        "    plt.figure(figsize=(10, 7))\n",
        "    for i in range(n_class):\n",
        "        fpr[i], tpr[i], thresh[i] = roc_curve(y_test_binarized[:, i], pred_prob[:, i])\n",
        "        roc_auc[i] = auc(fpr[i], tpr[i])\n",
        "\n",
        "        plt.plot(fpr[i], tpr[i], linestyle='--', label='%s vs Rest (AUC=%0.2f)' % (labels[i], roc_auc[i]))\n",
        "\n",
        "    plt.plot([0, 1], [0, 1], 'b--')\n",
        "    plt.xlim([0, 1])\n",
        "    plt.ylim([0, 1.05])\n",
        "    plt.title('Multiclass ROC Curve')\n",
        "    plt.xlabel('False Positive Rate')\n",
        "    plt.ylabel('True Positive Rate')\n",
        "    plt.legend(loc='lower right')\n",
        "    plt.show()\n"
      ]
    }
  ]
}