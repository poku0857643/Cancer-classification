{
  "nbformat": 4,
  "nbformat_minor": 0,
  "metadata": {
    "colab": {
      "provenance": [],
      "authorship_tag": "ABX9TyNzUWShsaIxBxWDWW2y0Dnd",
      "include_colab_link": true
    },
    "kernelspec": {
      "name": "python3",
      "display_name": "Python 3"
    },
    "language_info": {
      "name": "python"
    }
  },
  "cells": [
    {
      "cell_type": "markdown",
      "metadata": {
        "id": "view-in-github",
        "colab_type": "text"
      },
      "source": [
        "<a href=\"https://colab.research.google.com/github/poku0857643/Cancer-classification/blob/main/data_preprocessing.ipynb\" target=\"_parent\"><img src=\"https://colab.research.google.com/assets/colab-badge.svg\" alt=\"Open In Colab\"/></a>"
      ]
    },
    {
      "cell_type": "code",
      "execution_count": null,
      "metadata": {
        "id": "-Zxv7oa0ZL2s"
      },
      "outputs": [],
      "source": [
        "from sklearn.preprocessing import LabelEncoder, MinMaxScaler\n",
        "from sklearn.model_selection import train_test_split\n",
        "from sklearn.feature_selection import mutual_info_classif\n",
        "import pandas as pd\n",
        "import numpy as np\n",
        "\n",
        "def data_preprocessing(file_url):\n",
        "    \"\"\"\n",
        "    Load the data, preprocess it and split into train and test sets.\n",
        "\n",
        "    Parameters:\n",
        "    - file_url: URL or path to the CSV file\n",
        "\n",
        "    Returns:\n",
        "    - x_train_norm: Normalized training data\n",
        "    - x_test_norm: Normalized testing data\n",
        "    - y_train: Encoded training labels\n",
        "    - y_test: Encoded testing labels\n",
        "    - labels: Original class labels\n",
        "    \"\"\"\n",
        "    # Load the data\n",
        "    dataframe = pd.read_csv(file_url)\n",
        "    x = dataframe.iloc[:, 0:-1]\n",
        "    y = dataframe.iloc[:, -1]\n",
        "\n",
        "    # Encode labels\n",
        "    label_encoder = LabelEncoder()\n",
        "    label_encoder.fit(y)\n",
        "    y_encoded = label_encoder.transform(y)\n",
        "    labels = label_encoder.classes_\n",
        "\n",
        "    # Split data into train and test sets\n",
        "    x_train, x_test, y_train, y_test = train_test_split(x, y_encoded, test_size=0.2, random_state=42)\n",
        "\n",
        "    # Normalize data between 0 and 1\n",
        "    min_max_scaler = MinMaxScaler()\n",
        "    x_train_norm = min_max_scaler.fit_transform(x_train)\n",
        "    x_test_norm = min_max_scaler.transform(x_test)  # Use the same scaler to transform test data\n",
        "\n",
        "    return x_train_norm, x_test_norm, y_train, y_test, labels\n",
        "\n",
        "\n"
      ]
    }
  ]
}