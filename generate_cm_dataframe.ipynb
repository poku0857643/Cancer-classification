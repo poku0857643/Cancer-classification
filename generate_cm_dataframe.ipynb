{
  "nbformat": 4,
  "nbformat_minor": 0,
  "metadata": {
    "colab": {
      "provenance": [],
      "authorship_tag": "ABX9TyPqErtSAWwqAa99+IJv4EyA",
      "include_colab_link": true
    },
    "kernelspec": {
      "name": "python3",
      "display_name": "Python 3"
    },
    "language_info": {
      "name": "python"
    }
  },
  "cells": [
    {
      "cell_type": "markdown",
      "metadata": {
        "id": "view-in-github",
        "colab_type": "text"
      },
      "source": [
        "<a href=\"https://colab.research.google.com/github/poku0857643/Cancer-classification/blob/main/generate_cm_dataframe.ipynb\" target=\"_parent\"><img src=\"https://colab.research.google.com/assets/colab-badge.svg\" alt=\"Open In Colab\"/></a>"
      ]
    },
    {
      "cell_type": "code",
      "execution_count": null,
      "metadata": {
        "id": "-Zxv7oa0ZL2s"
      },
      "outputs": [],
      "source": [
        "import pandas as pd\n",
        "from sklearn.metrics import confusion_matrix\n",
        "\n",
        "def generate_cm_dataframe(y_true, y_pred, labels):\n",
        "    \"\"\"\n",
        "    Generate a DataFrame for the confusion matrix with given labels.\n",
        "\n",
        "    Parameters:\n",
        "    - y_true: True labels\n",
        "    - y_pred: Predicted labels\n",
        "    - labels: List of class labels\n",
        "\n",
        "    Returns:\n",
        "    - cm_df: DataFrame representation of the confusion matrix\n",
        "    \"\"\"\n",
        "    cm = confusion_matrix(y_true, y_pred)\n",
        "    cm_df = pd.DataFrame(cm, index=labels, columns=labels)\n",
        "    return cm_df\n"
      ]
    }
  ]
}