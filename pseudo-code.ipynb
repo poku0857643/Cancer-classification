{
  "nbformat": 4,
  "nbformat_minor": 0,
  "metadata": {
    "colab": {
      "provenance": [],
      "authorship_tag": "ABX9TyOwtjqI9QmtFxA5lBZ6h+IG",
      "include_colab_link": true
    },
    "kernelspec": {
      "name": "python3",
      "display_name": "Python 3"
    },
    "language_info": {
      "name": "python"
    }
  },
  "cells": [
    {
      "cell_type": "markdown",
      "metadata": {
        "id": "view-in-github",
        "colab_type": "text"
      },
      "source": [
        "<a href=\"https://colab.research.google.com/github/poku0857643/Cancer-classification/blob/main/pseudo-code.ipynb\" target=\"_parent\"><img src=\"https://colab.research.google.com/assets/colab-badge.svg\" alt=\"Open In Colab\"/></a>"
      ]
    },
    {
      "cell_type": "markdown",
      "source": [
        "#**Cancer Classification**"
      ],
      "metadata": {
        "id": "0PGPbKRvuKG2"
      }
    },
    {
      "cell_type": "markdown",
      "source": [
        "\n"
      ],
      "metadata": {
        "id": "d5J3wk-EEs1p"
      }
    },
    {
      "cell_type": "code",
      "source": [
        "#pseodo code of cancer classification overall pipeline\n",
        "1. Start\n",
        "\n",
        "2. function data_preprocessing (input: raw data)\n",
        "-read\n",
        "-handle missing value\n",
        "-normalization data\n",
        "-train test split\n",
        "-return processed_train_data, precessed_test_data\n",
        "\n",
        "3. function feature_selection (input: processed_train_data, processed_train_data_labels)\n",
        "-feature selection method\n",
        "-select the top features based on the method's criteria\n",
        "-return selected_feature\n",
        "\n",
        "4. function RF_model(input: train_data_with_selected_features, train_labels)\n",
        "-create a OneVsRestClassifier using RandomForestClassifer\n",
        "-train the model with train_data_with_selected_features and train_labels\n",
        "-retunr: trained_RF_model\n",
        "\n",
        "5. Function performance_evaluation(input: trained_mdoel, test_data, test_labels)\n",
        "-use trained_model to predict on test_data\n",
        "-calculate accuracy, precision, recall and f1-score\n",
        "-generate a classification report\n",
        "-print all evaluation metrics\n",
        "-return evaluation_metrics\n",
        "\n",
        "6. Function generate_cm_dataframe(input:y_true, y_pred, labels):\n",
        "-call confusion matrix using y_true and y_pred\n",
        "-display confusion matrix on dataframe\n",
        "-return cm_df\n",
        "\n",
        "7. Function plot_confusion)matrix(cm_df):\n",
        "-plot confusion matrix using seaborn heatmap\n",
        "\n",
        "\n",
        "8. Function plot_multiclass_roc(y_test, pred_prob, classed, labels):\n",
        "-calculate FPR, TPR, threshold, ROC-AUC\n",
        "-plot FPR, TPR, threshold, ROC\n",
        "\n",
        "9. Main\n",
        "-raw_data = laod cancer data\n",
        "-train_data, test_data = data_preprocessing(raw_data)\n",
        "-selected_features = feature_selection(train_data, train_labels)\n",
        "-trained_RF = RF_model(train_data[selected_features], train_labels)\n",
        "-performance_evaluation(trained_RF, test_data[selected_features], test_labels)\n",
        "-generate_cm_dataframe(y_test, y_pred, labels)\n",
        "-plot_cm_dataframe(cm_df)\n",
        "-plot ROC, threshold, FPR, TPR"
      ],
      "metadata": {
        "id": "8nXYmGvnEn7G"
      },
      "execution_count": null,
      "outputs": []
    },
    {
      "cell_type": "code",
      "source": [],
      "metadata": {
        "id": "LeE6seK6K49j"
      },
      "execution_count": null,
      "outputs": []
    },
    {
      "cell_type": "code",
      "source": [
        "def data_preprocessing(self)\n"
      ],
      "metadata": {
        "id": "Ia5d_lT0HII4"
      },
      "execution_count": null,
      "outputs": []
    },
    {
      "cell_type": "markdown",
      "source": [
        "Download library"
      ],
      "metadata": {
        "id": "_PFigsrwQ3Oj"
      }
    },
    {
      "cell_type": "code",
      "execution_count": null,
      "metadata": {
        "id": "4f4XULwebjOU"
      },
      "outputs": [],
      "source": [
        "#data handling\n",
        "import numpy as np\n",
        "import pandas as pd\n",
        "\n",
        "#data visualization\n",
        "import matplotlib.pyplot as plt\n",
        "import seaborn as sns\n",
        "\n",
        "#data preprocessing\n",
        "from sklearn.model_selection import train_test_split\n",
        "from sklearn.preprocessing import LabelEncoder\n",
        "from sklearn.preprocessing import label_binarize\n",
        "from sklearn.preprocessing import MinMaxScaler\n",
        "\n",
        "#feature selection\n",
        "from sklearn.feature_selection import mutual_info_classif\n",
        "\n",
        "#classification\n",
        "from sklearn.multiclass import OneVsRestClassifier\n",
        "from sklearn.ensemble import RandomForestClassifier\n",
        "\n",
        "#performance metrics\n",
        "from sklearn.metrics import balanced_accuracy_score, f1_score, precision_score, recall_score, accuracy_score\n",
        "from sklearn.metrics import classification_report\n",
        "from sklearn.metrics import confusion_matrix\n",
        "from sklearn.metrics import roc_curve,auc\n",
        "from sklearn.metrics import roc_auc_score"
      ]
    },
    {
      "cell_type": "markdown",
      "source": [
        "Dataset preparation"
      ],
      "metadata": {
        "id": "puwqdjzURY8y"
      }
    },
    {
      "cell_type": "code",
      "source": [
        "file_url = 'http://github.com/Cancer-classification/raw/main/cancer_gene_expression.zip'\n",
        "dataframe =pd.read_csv(file_url)\n",
        "x = dataframe.iloc[:,0:-1]\n",
        "y = dataframe.iloc[:,-1]\n",
        "#encode labels\n",
        "label_encoder=LabelEncoder()\n",
        "label_encoder.fit(y)\n",
        "y_encoded=label_encoder.transform(y)\n",
        "labels=label_encoder.classes_\n",
        "classes=np.unique(y_encoded)\n",
        "#data splitting\n",
        "x_train,x_test, y_train, y_test = train_test_split(x,y_encoded, test_size=0.2,random_state=42)\n",
        "#scale data beteeen 0 nad 1\n",
        "min_max_scaler=MinMaxScaler()\n",
        "x_train_norm=min_max_scaler.fit_transform(x_train)\n",
        "x_test_norm=min_max_scaler.fit_transform(x_test)\n",
        "x_train.iloc[0,3]\n",
        "x_train_norm[0,3]\n",
        "#feature selection\n",
        "MI=mutual_info_classif(x_train_norm, y_train)\n",
        "n_features=300\n",
        "selected_scores_indices=np.argsort(MI)[::-1][0:n_features]\n",
        "x_train_selected=x_train_norm[:, selected_scores_indices]\n",
        "x_test_selected=x_test_norm[:,selected_scores_indices]"
      ],
      "metadata": {
        "id": "0AoRpI_4Haj4"
      },
      "execution_count": null,
      "outputs": []
    },
    {
      "cell_type": "code",
      "source": [
        "file_url = 'http://github.com/poku0857643/Cancer-classification/raw/main/cancer_gene_expression.zip'\n"
      ],
      "metadata": {
        "id": "N1_zvr5N9Zmo"
      },
      "execution_count": null,
      "outputs": []
    },
    {
      "cell_type": "code",
      "source": [
        "dataframe =pd.read_csv(file_url)\n",
        "dataframe"
      ],
      "metadata": {
        "id": "1Uf4kfVaDJuF",
        "outputId": "dc415d01-3a86-4019-d81c-edefb8dc737b",
        "colab": {
          "base_uri": "https://localhost:8080/",
          "height": 444
        }
      },
      "execution_count": null,
      "outputs": [
        {
          "output_type": "execute_result",
          "data": {
            "text/plain": [
              "     gene_1    gene_2  gene_3    gene_4  gene_5  gene_6  gene_7  gene_8  \\\n",
              "0       0.0  0.000000     0.0  2.088413     0.0     0.0     0.0     0.0   \n",
              "1       0.0  0.000000     0.0  3.205955     0.0     0.0     0.0     0.0   \n",
              "2       0.0  0.000000     0.0  4.746646     0.0     0.0     0.0     0.0   \n",
              "3       0.0  0.000000     0.0  1.173191     0.0     0.0     0.0     0.0   \n",
              "4       0.0  0.000000     0.0  1.366532     0.0     0.0     0.0     0.0   \n",
              "..      ...       ...     ...       ...     ...     ...     ...     ...   \n",
              "796     0.0  2.933384     0.0  1.683921     0.0     0.0     0.0     0.0   \n",
              "797     0.0  0.000000     0.0  2.772625     0.0     0.0     0.0     0.0   \n",
              "798     0.0  0.408277     0.0  1.854754     0.0     0.0     0.0     0.0   \n",
              "799     0.0  0.639232     0.0  3.226971     0.0     0.0     0.0     0.0   \n",
              "800     0.0  0.000000     0.0  2.336912     0.0     0.0     0.0     0.0   \n",
              "\n",
              "       gene_9   gene_10  ...  gene_7992  gene_7993  gene_7994  gene_7995  \\\n",
              "0    0.550605  2.815760  ...  11.558803   8.881802   6.014840   6.643534   \n",
              "1    0.425244  2.354396  ...  11.062829   9.032864   5.054193   6.432320   \n",
              "2    2.639417  1.657091  ...  12.497640   7.198160   0.943434   7.371690   \n",
              "3    1.527371  2.732899  ...  11.261713   8.725676   6.300418   6.036451   \n",
              "4    0.000000  3.388355  ...  12.241965   7.685204   5.142948   6.355788   \n",
              "..        ...       ...  ...        ...        ...        ...        ...   \n",
              "796  0.635336  1.252839  ...   9.985842   9.469967   4.225275   6.955336   \n",
              "797  0.534759  3.761764  ...  12.334681   8.157327   1.482797   6.758183   \n",
              "798  0.000000  0.986520  ...  11.671992   8.859616   6.393828   6.427115   \n",
              "799  1.921322  0.639232  ...  12.237087   5.753976   4.192478   6.614875   \n",
              "800  0.926379  1.233090  ...  11.086966   8.345086   7.789018   6.472460   \n",
              "\n",
              "     gene_7996  gene_7997  gene_7998  gene_7999  gene_8000  Cancer_Type  \n",
              "0    11.740624   7.065012   9.932659   6.928584   2.088413         KIRC  \n",
              "1    12.104985   7.300746   9.872796   5.039231   2.448002         KIRC  \n",
              "2    11.202356   8.426588  11.176890   3.119738   4.433988         BRCA  \n",
              "3    11.732303   7.559469   9.596453   2.863046   3.380342         KIRC  \n",
              "4    11.493950   8.139444  10.189256   6.544487   0.839395         COAD  \n",
              "..         ...        ...        ...        ...        ...          ...  \n",
              "796  11.722206   7.309940  10.986119   6.396848   1.252839         BRCA  \n",
              "797  11.403838   9.005347  11.012045   5.386625   1.697640         COAD  \n",
              "798  11.596586   7.454127  10.718533   5.507417   1.398131         BRCA  \n",
              "799  11.183245   7.544261  10.649382   5.282158   0.639232         BRCA  \n",
              "800  11.819836   8.082942  10.397717   7.550000   0.926379         COAD  \n",
              "\n",
              "[801 rows x 8001 columns]"
            ],
            "text/html": [
              "\n",
              "  <div id=\"df-f2f3d208-338e-4548-90dd-2875071231e7\" class=\"colab-df-container\">\n",
              "    <div>\n",
              "<style scoped>\n",
              "    .dataframe tbody tr th:only-of-type {\n",
              "        vertical-align: middle;\n",
              "    }\n",
              "\n",
              "    .dataframe tbody tr th {\n",
              "        vertical-align: top;\n",
              "    }\n",
              "\n",
              "    .dataframe thead th {\n",
              "        text-align: right;\n",
              "    }\n",
              "</style>\n",
              "<table border=\"1\" class=\"dataframe\">\n",
              "  <thead>\n",
              "    <tr style=\"text-align: right;\">\n",
              "      <th></th>\n",
              "      <th>gene_1</th>\n",
              "      <th>gene_2</th>\n",
              "      <th>gene_3</th>\n",
              "      <th>gene_4</th>\n",
              "      <th>gene_5</th>\n",
              "      <th>gene_6</th>\n",
              "      <th>gene_7</th>\n",
              "      <th>gene_8</th>\n",
              "      <th>gene_9</th>\n",
              "      <th>gene_10</th>\n",
              "      <th>...</th>\n",
              "      <th>gene_7992</th>\n",
              "      <th>gene_7993</th>\n",
              "      <th>gene_7994</th>\n",
              "      <th>gene_7995</th>\n",
              "      <th>gene_7996</th>\n",
              "      <th>gene_7997</th>\n",
              "      <th>gene_7998</th>\n",
              "      <th>gene_7999</th>\n",
              "      <th>gene_8000</th>\n",
              "      <th>Cancer_Type</th>\n",
              "    </tr>\n",
              "  </thead>\n",
              "  <tbody>\n",
              "    <tr>\n",
              "      <th>0</th>\n",
              "      <td>0.0</td>\n",
              "      <td>0.000000</td>\n",
              "      <td>0.0</td>\n",
              "      <td>2.088413</td>\n",
              "      <td>0.0</td>\n",
              "      <td>0.0</td>\n",
              "      <td>0.0</td>\n",
              "      <td>0.0</td>\n",
              "      <td>0.550605</td>\n",
              "      <td>2.815760</td>\n",
              "      <td>...</td>\n",
              "      <td>11.558803</td>\n",
              "      <td>8.881802</td>\n",
              "      <td>6.014840</td>\n",
              "      <td>6.643534</td>\n",
              "      <td>11.740624</td>\n",
              "      <td>7.065012</td>\n",
              "      <td>9.932659</td>\n",
              "      <td>6.928584</td>\n",
              "      <td>2.088413</td>\n",
              "      <td>KIRC</td>\n",
              "    </tr>\n",
              "    <tr>\n",
              "      <th>1</th>\n",
              "      <td>0.0</td>\n",
              "      <td>0.000000</td>\n",
              "      <td>0.0</td>\n",
              "      <td>3.205955</td>\n",
              "      <td>0.0</td>\n",
              "      <td>0.0</td>\n",
              "      <td>0.0</td>\n",
              "      <td>0.0</td>\n",
              "      <td>0.425244</td>\n",
              "      <td>2.354396</td>\n",
              "      <td>...</td>\n",
              "      <td>11.062829</td>\n",
              "      <td>9.032864</td>\n",
              "      <td>5.054193</td>\n",
              "      <td>6.432320</td>\n",
              "      <td>12.104985</td>\n",
              "      <td>7.300746</td>\n",
              "      <td>9.872796</td>\n",
              "      <td>5.039231</td>\n",
              "      <td>2.448002</td>\n",
              "      <td>KIRC</td>\n",
              "    </tr>\n",
              "    <tr>\n",
              "      <th>2</th>\n",
              "      <td>0.0</td>\n",
              "      <td>0.000000</td>\n",
              "      <td>0.0</td>\n",
              "      <td>4.746646</td>\n",
              "      <td>0.0</td>\n",
              "      <td>0.0</td>\n",
              "      <td>0.0</td>\n",
              "      <td>0.0</td>\n",
              "      <td>2.639417</td>\n",
              "      <td>1.657091</td>\n",
              "      <td>...</td>\n",
              "      <td>12.497640</td>\n",
              "      <td>7.198160</td>\n",
              "      <td>0.943434</td>\n",
              "      <td>7.371690</td>\n",
              "      <td>11.202356</td>\n",
              "      <td>8.426588</td>\n",
              "      <td>11.176890</td>\n",
              "      <td>3.119738</td>\n",
              "      <td>4.433988</td>\n",
              "      <td>BRCA</td>\n",
              "    </tr>\n",
              "    <tr>\n",
              "      <th>3</th>\n",
              "      <td>0.0</td>\n",
              "      <td>0.000000</td>\n",
              "      <td>0.0</td>\n",
              "      <td>1.173191</td>\n",
              "      <td>0.0</td>\n",
              "      <td>0.0</td>\n",
              "      <td>0.0</td>\n",
              "      <td>0.0</td>\n",
              "      <td>1.527371</td>\n",
              "      <td>2.732899</td>\n",
              "      <td>...</td>\n",
              "      <td>11.261713</td>\n",
              "      <td>8.725676</td>\n",
              "      <td>6.300418</td>\n",
              "      <td>6.036451</td>\n",
              "      <td>11.732303</td>\n",
              "      <td>7.559469</td>\n",
              "      <td>9.596453</td>\n",
              "      <td>2.863046</td>\n",
              "      <td>3.380342</td>\n",
              "      <td>KIRC</td>\n",
              "    </tr>\n",
              "    <tr>\n",
              "      <th>4</th>\n",
              "      <td>0.0</td>\n",
              "      <td>0.000000</td>\n",
              "      <td>0.0</td>\n",
              "      <td>1.366532</td>\n",
              "      <td>0.0</td>\n",
              "      <td>0.0</td>\n",
              "      <td>0.0</td>\n",
              "      <td>0.0</td>\n",
              "      <td>0.000000</td>\n",
              "      <td>3.388355</td>\n",
              "      <td>...</td>\n",
              "      <td>12.241965</td>\n",
              "      <td>7.685204</td>\n",
              "      <td>5.142948</td>\n",
              "      <td>6.355788</td>\n",
              "      <td>11.493950</td>\n",
              "      <td>8.139444</td>\n",
              "      <td>10.189256</td>\n",
              "      <td>6.544487</td>\n",
              "      <td>0.839395</td>\n",
              "      <td>COAD</td>\n",
              "    </tr>\n",
              "    <tr>\n",
              "      <th>...</th>\n",
              "      <td>...</td>\n",
              "      <td>...</td>\n",
              "      <td>...</td>\n",
              "      <td>...</td>\n",
              "      <td>...</td>\n",
              "      <td>...</td>\n",
              "      <td>...</td>\n",
              "      <td>...</td>\n",
              "      <td>...</td>\n",
              "      <td>...</td>\n",
              "      <td>...</td>\n",
              "      <td>...</td>\n",
              "      <td>...</td>\n",
              "      <td>...</td>\n",
              "      <td>...</td>\n",
              "      <td>...</td>\n",
              "      <td>...</td>\n",
              "      <td>...</td>\n",
              "      <td>...</td>\n",
              "      <td>...</td>\n",
              "      <td>...</td>\n",
              "    </tr>\n",
              "    <tr>\n",
              "      <th>796</th>\n",
              "      <td>0.0</td>\n",
              "      <td>2.933384</td>\n",
              "      <td>0.0</td>\n",
              "      <td>1.683921</td>\n",
              "      <td>0.0</td>\n",
              "      <td>0.0</td>\n",
              "      <td>0.0</td>\n",
              "      <td>0.0</td>\n",
              "      <td>0.635336</td>\n",
              "      <td>1.252839</td>\n",
              "      <td>...</td>\n",
              "      <td>9.985842</td>\n",
              "      <td>9.469967</td>\n",
              "      <td>4.225275</td>\n",
              "      <td>6.955336</td>\n",
              "      <td>11.722206</td>\n",
              "      <td>7.309940</td>\n",
              "      <td>10.986119</td>\n",
              "      <td>6.396848</td>\n",
              "      <td>1.252839</td>\n",
              "      <td>BRCA</td>\n",
              "    </tr>\n",
              "    <tr>\n",
              "      <th>797</th>\n",
              "      <td>0.0</td>\n",
              "      <td>0.000000</td>\n",
              "      <td>0.0</td>\n",
              "      <td>2.772625</td>\n",
              "      <td>0.0</td>\n",
              "      <td>0.0</td>\n",
              "      <td>0.0</td>\n",
              "      <td>0.0</td>\n",
              "      <td>0.534759</td>\n",
              "      <td>3.761764</td>\n",
              "      <td>...</td>\n",
              "      <td>12.334681</td>\n",
              "      <td>8.157327</td>\n",
              "      <td>1.482797</td>\n",
              "      <td>6.758183</td>\n",
              "      <td>11.403838</td>\n",
              "      <td>9.005347</td>\n",
              "      <td>11.012045</td>\n",
              "      <td>5.386625</td>\n",
              "      <td>1.697640</td>\n",
              "      <td>COAD</td>\n",
              "    </tr>\n",
              "    <tr>\n",
              "      <th>798</th>\n",
              "      <td>0.0</td>\n",
              "      <td>0.408277</td>\n",
              "      <td>0.0</td>\n",
              "      <td>1.854754</td>\n",
              "      <td>0.0</td>\n",
              "      <td>0.0</td>\n",
              "      <td>0.0</td>\n",
              "      <td>0.0</td>\n",
              "      <td>0.000000</td>\n",
              "      <td>0.986520</td>\n",
              "      <td>...</td>\n",
              "      <td>11.671992</td>\n",
              "      <td>8.859616</td>\n",
              "      <td>6.393828</td>\n",
              "      <td>6.427115</td>\n",
              "      <td>11.596586</td>\n",
              "      <td>7.454127</td>\n",
              "      <td>10.718533</td>\n",
              "      <td>5.507417</td>\n",
              "      <td>1.398131</td>\n",
              "      <td>BRCA</td>\n",
              "    </tr>\n",
              "    <tr>\n",
              "      <th>799</th>\n",
              "      <td>0.0</td>\n",
              "      <td>0.639232</td>\n",
              "      <td>0.0</td>\n",
              "      <td>3.226971</td>\n",
              "      <td>0.0</td>\n",
              "      <td>0.0</td>\n",
              "      <td>0.0</td>\n",
              "      <td>0.0</td>\n",
              "      <td>1.921322</td>\n",
              "      <td>0.639232</td>\n",
              "      <td>...</td>\n",
              "      <td>12.237087</td>\n",
              "      <td>5.753976</td>\n",
              "      <td>4.192478</td>\n",
              "      <td>6.614875</td>\n",
              "      <td>11.183245</td>\n",
              "      <td>7.544261</td>\n",
              "      <td>10.649382</td>\n",
              "      <td>5.282158</td>\n",
              "      <td>0.639232</td>\n",
              "      <td>BRCA</td>\n",
              "    </tr>\n",
              "    <tr>\n",
              "      <th>800</th>\n",
              "      <td>0.0</td>\n",
              "      <td>0.000000</td>\n",
              "      <td>0.0</td>\n",
              "      <td>2.336912</td>\n",
              "      <td>0.0</td>\n",
              "      <td>0.0</td>\n",
              "      <td>0.0</td>\n",
              "      <td>0.0</td>\n",
              "      <td>0.926379</td>\n",
              "      <td>1.233090</td>\n",
              "      <td>...</td>\n",
              "      <td>11.086966</td>\n",
              "      <td>8.345086</td>\n",
              "      <td>7.789018</td>\n",
              "      <td>6.472460</td>\n",
              "      <td>11.819836</td>\n",
              "      <td>8.082942</td>\n",
              "      <td>10.397717</td>\n",
              "      <td>7.550000</td>\n",
              "      <td>0.926379</td>\n",
              "      <td>COAD</td>\n",
              "    </tr>\n",
              "  </tbody>\n",
              "</table>\n",
              "<p>801 rows × 8001 columns</p>\n",
              "</div>\n",
              "    <div class=\"colab-df-buttons\">\n",
              "\n",
              "  <div class=\"colab-df-container\">\n",
              "    <button class=\"colab-df-convert\" onclick=\"convertToInteractive('df-f2f3d208-338e-4548-90dd-2875071231e7')\"\n",
              "            title=\"Convert this dataframe to an interactive table.\"\n",
              "            style=\"display:none;\">\n",
              "\n",
              "  <svg xmlns=\"http://www.w3.org/2000/svg\" height=\"24px\" viewBox=\"0 -960 960 960\">\n",
              "    <path d=\"M120-120v-720h720v720H120Zm60-500h600v-160H180v160Zm220 220h160v-160H400v160Zm0 220h160v-160H400v160ZM180-400h160v-160H180v160Zm440 0h160v-160H620v160ZM180-180h160v-160H180v160Zm440 0h160v-160H620v160Z\"/>\n",
              "  </svg>\n",
              "    </button>\n",
              "\n",
              "  <style>\n",
              "    .colab-df-container {\n",
              "      display:flex;\n",
              "      gap: 12px;\n",
              "    }\n",
              "\n",
              "    .colab-df-convert {\n",
              "      background-color: #E8F0FE;\n",
              "      border: none;\n",
              "      border-radius: 50%;\n",
              "      cursor: pointer;\n",
              "      display: none;\n",
              "      fill: #1967D2;\n",
              "      height: 32px;\n",
              "      padding: 0 0 0 0;\n",
              "      width: 32px;\n",
              "    }\n",
              "\n",
              "    .colab-df-convert:hover {\n",
              "      background-color: #E2EBFA;\n",
              "      box-shadow: 0px 1px 2px rgba(60, 64, 67, 0.3), 0px 1px 3px 1px rgba(60, 64, 67, 0.15);\n",
              "      fill: #174EA6;\n",
              "    }\n",
              "\n",
              "    .colab-df-buttons div {\n",
              "      margin-bottom: 4px;\n",
              "    }\n",
              "\n",
              "    [theme=dark] .colab-df-convert {\n",
              "      background-color: #3B4455;\n",
              "      fill: #D2E3FC;\n",
              "    }\n",
              "\n",
              "    [theme=dark] .colab-df-convert:hover {\n",
              "      background-color: #434B5C;\n",
              "      box-shadow: 0px 1px 3px 1px rgba(0, 0, 0, 0.15);\n",
              "      filter: drop-shadow(0px 1px 2px rgba(0, 0, 0, 0.3));\n",
              "      fill: #FFFFFF;\n",
              "    }\n",
              "  </style>\n",
              "\n",
              "    <script>\n",
              "      const buttonEl =\n",
              "        document.querySelector('#df-f2f3d208-338e-4548-90dd-2875071231e7 button.colab-df-convert');\n",
              "      buttonEl.style.display =\n",
              "        google.colab.kernel.accessAllowed ? 'block' : 'none';\n",
              "\n",
              "      async function convertToInteractive(key) {\n",
              "        const element = document.querySelector('#df-f2f3d208-338e-4548-90dd-2875071231e7');\n",
              "        const dataTable =\n",
              "          await google.colab.kernel.invokeFunction('convertToInteractive',\n",
              "                                                    [key], {});\n",
              "        if (!dataTable) return;\n",
              "\n",
              "        const docLinkHtml = 'Like what you see? Visit the ' +\n",
              "          '<a target=\"_blank\" href=https://colab.research.google.com/notebooks/data_table.ipynb>data table notebook</a>'\n",
              "          + ' to learn more about interactive tables.';\n",
              "        element.innerHTML = '';\n",
              "        dataTable['output_type'] = 'display_data';\n",
              "        await google.colab.output.renderOutput(dataTable, element);\n",
              "        const docLink = document.createElement('div');\n",
              "        docLink.innerHTML = docLinkHtml;\n",
              "        element.appendChild(docLink);\n",
              "      }\n",
              "    </script>\n",
              "  </div>\n",
              "\n",
              "\n",
              "<div id=\"df-58489ec6-6e47-4058-b443-40edb046add6\">\n",
              "  <button class=\"colab-df-quickchart\" onclick=\"quickchart('df-58489ec6-6e47-4058-b443-40edb046add6')\"\n",
              "            title=\"Suggest charts.\"\n",
              "            style=\"display:none;\">\n",
              "\n",
              "<svg xmlns=\"http://www.w3.org/2000/svg\" height=\"24px\"viewBox=\"0 0 24 24\"\n",
              "     width=\"24px\">\n",
              "    <g>\n",
              "        <path d=\"M19 3H5c-1.1 0-2 .9-2 2v14c0 1.1.9 2 2 2h14c1.1 0 2-.9 2-2V5c0-1.1-.9-2-2-2zM9 17H7v-7h2v7zm4 0h-2V7h2v10zm4 0h-2v-4h2v4z\"/>\n",
              "    </g>\n",
              "</svg>\n",
              "  </button>\n",
              "\n",
              "<style>\n",
              "  .colab-df-quickchart {\n",
              "      --bg-color: #E8F0FE;\n",
              "      --fill-color: #1967D2;\n",
              "      --hover-bg-color: #E2EBFA;\n",
              "      --hover-fill-color: #174EA6;\n",
              "      --disabled-fill-color: #AAA;\n",
              "      --disabled-bg-color: #DDD;\n",
              "  }\n",
              "\n",
              "  [theme=dark] .colab-df-quickchart {\n",
              "      --bg-color: #3B4455;\n",
              "      --fill-color: #D2E3FC;\n",
              "      --hover-bg-color: #434B5C;\n",
              "      --hover-fill-color: #FFFFFF;\n",
              "      --disabled-bg-color: #3B4455;\n",
              "      --disabled-fill-color: #666;\n",
              "  }\n",
              "\n",
              "  .colab-df-quickchart {\n",
              "    background-color: var(--bg-color);\n",
              "    border: none;\n",
              "    border-radius: 50%;\n",
              "    cursor: pointer;\n",
              "    display: none;\n",
              "    fill: var(--fill-color);\n",
              "    height: 32px;\n",
              "    padding: 0;\n",
              "    width: 32px;\n",
              "  }\n",
              "\n",
              "  .colab-df-quickchart:hover {\n",
              "    background-color: var(--hover-bg-color);\n",
              "    box-shadow: 0 1px 2px rgba(60, 64, 67, 0.3), 0 1px 3px 1px rgba(60, 64, 67, 0.15);\n",
              "    fill: var(--button-hover-fill-color);\n",
              "  }\n",
              "\n",
              "  .colab-df-quickchart-complete:disabled,\n",
              "  .colab-df-quickchart-complete:disabled:hover {\n",
              "    background-color: var(--disabled-bg-color);\n",
              "    fill: var(--disabled-fill-color);\n",
              "    box-shadow: none;\n",
              "  }\n",
              "\n",
              "  .colab-df-spinner {\n",
              "    border: 2px solid var(--fill-color);\n",
              "    border-color: transparent;\n",
              "    border-bottom-color: var(--fill-color);\n",
              "    animation:\n",
              "      spin 1s steps(1) infinite;\n",
              "  }\n",
              "\n",
              "  @keyframes spin {\n",
              "    0% {\n",
              "      border-color: transparent;\n",
              "      border-bottom-color: var(--fill-color);\n",
              "      border-left-color: var(--fill-color);\n",
              "    }\n",
              "    20% {\n",
              "      border-color: transparent;\n",
              "      border-left-color: var(--fill-color);\n",
              "      border-top-color: var(--fill-color);\n",
              "    }\n",
              "    30% {\n",
              "      border-color: transparent;\n",
              "      border-left-color: var(--fill-color);\n",
              "      border-top-color: var(--fill-color);\n",
              "      border-right-color: var(--fill-color);\n",
              "    }\n",
              "    40% {\n",
              "      border-color: transparent;\n",
              "      border-right-color: var(--fill-color);\n",
              "      border-top-color: var(--fill-color);\n",
              "    }\n",
              "    60% {\n",
              "      border-color: transparent;\n",
              "      border-right-color: var(--fill-color);\n",
              "    }\n",
              "    80% {\n",
              "      border-color: transparent;\n",
              "      border-right-color: var(--fill-color);\n",
              "      border-bottom-color: var(--fill-color);\n",
              "    }\n",
              "    90% {\n",
              "      border-color: transparent;\n",
              "      border-bottom-color: var(--fill-color);\n",
              "    }\n",
              "  }\n",
              "</style>\n",
              "\n",
              "  <script>\n",
              "    async function quickchart(key) {\n",
              "      const quickchartButtonEl =\n",
              "        document.querySelector('#' + key + ' button');\n",
              "      quickchartButtonEl.disabled = true;  // To prevent multiple clicks.\n",
              "      quickchartButtonEl.classList.add('colab-df-spinner');\n",
              "      try {\n",
              "        const charts = await google.colab.kernel.invokeFunction(\n",
              "            'suggestCharts', [key], {});\n",
              "      } catch (error) {\n",
              "        console.error('Error during call to suggestCharts:', error);\n",
              "      }\n",
              "      quickchartButtonEl.classList.remove('colab-df-spinner');\n",
              "      quickchartButtonEl.classList.add('colab-df-quickchart-complete');\n",
              "    }\n",
              "    (() => {\n",
              "      let quickchartButtonEl =\n",
              "        document.querySelector('#df-58489ec6-6e47-4058-b443-40edb046add6 button');\n",
              "      quickchartButtonEl.style.display =\n",
              "        google.colab.kernel.accessAllowed ? 'block' : 'none';\n",
              "    })();\n",
              "  </script>\n",
              "</div>\n",
              "    </div>\n",
              "  </div>\n"
            ]
          },
          "metadata": {},
          "execution_count": 45
        }
      ]
    },
    {
      "cell_type": "code",
      "source": [
        "#data exploration and cleaning\n",
        "print(dataframe.shape)"
      ],
      "metadata": {
        "colab": {
          "base_uri": "https://localhost:8080/"
        },
        "id": "8BKniapVlys8",
        "outputId": "c65ab6d8-ad3e-44f8-c1cd-071237569f43"
      },
      "execution_count": null,
      "outputs": [
        {
          "output_type": "stream",
          "name": "stdout",
          "text": [
            "(801, 8001)\n"
          ]
        }
      ]
    },
    {
      "cell_type": "code",
      "source": [
        "print(dataframe.columns[0:3])"
      ],
      "metadata": {
        "colab": {
          "base_uri": "https://localhost:8080/"
        },
        "id": "hQy8gJ4UppMT",
        "outputId": "c87f7c1d-6e76-4cf2-eeff-89b31a343d38"
      },
      "execution_count": null,
      "outputs": [
        {
          "output_type": "stream",
          "name": "stdout",
          "text": [
            "Index(['gene_1', 'gene_2', 'gene_3'], dtype='object')\n"
          ]
        }
      ]
    },
    {
      "cell_type": "code",
      "source": [
        "dataframe.columns[-1]"
      ],
      "metadata": {
        "colab": {
          "base_uri": "https://localhost:8080/",
          "height": 35
        },
        "id": "BZAWuBdYp4Uk",
        "outputId": "c241f301-b32b-4423-d725-d9ce2e35a528"
      },
      "execution_count": null,
      "outputs": [
        {
          "output_type": "execute_result",
          "data": {
            "text/plain": [
              "'Cancer_Type'"
            ],
            "application/vnd.google.colaboratory.intrinsic+json": {
              "type": "string"
            }
          },
          "metadata": {},
          "execution_count": 5
        }
      ]
    },
    {
      "cell_type": "code",
      "source": [
        "datanul = dataframe.isnull().sum()\n",
        "g=[i for i in datanul if i >0]\n",
        "print('columns with missing value:%d'%len(g))"
      ],
      "metadata": {
        "colab": {
          "base_uri": "https://localhost:8080/"
        },
        "id": "5dHxwWrSp9h5",
        "outputId": "0b85d2b7-7f35-4dbe-96ca-bfa49d86ddfa"
      },
      "execution_count": null,
      "outputs": [
        {
          "output_type": "stream",
          "name": "stdout",
          "text": [
            "columns with missing value:0\n"
          ]
        }
      ]
    },
    {
      "cell_type": "code",
      "source": [
        "print(dataframe['Cancer_Type'].value_counts())"
      ],
      "metadata": {
        "colab": {
          "base_uri": "https://localhost:8080/"
        },
        "id": "h2M0GNemrAcT",
        "outputId": "a7677a1c-528b-4cee-9826-4094c4f811a0"
      },
      "execution_count": null,
      "outputs": [
        {
          "output_type": "stream",
          "name": "stdout",
          "text": [
            "BRCA    300\n",
            "KIRC    146\n",
            "LUAD    141\n",
            "PRAD    136\n",
            "COAD     78\n",
            "Name: Cancer_Type, dtype: int64\n"
          ]
        }
      ]
    },
    {
      "cell_type": "code",
      "source": [
        "dataframe['Cancer_Type'].value_counts().plot.bar()"
      ],
      "metadata": {
        "colab": {
          "base_uri": "https://localhost:8080/",
          "height": 474
        },
        "id": "Rq-zhLcQrIhk",
        "outputId": "920f0475-1a42-41ce-a85a-cdeb6045357f"
      },
      "execution_count": null,
      "outputs": [
        {
          "output_type": "execute_result",
          "data": {
            "text/plain": [
              "<Axes: >"
            ]
          },
          "metadata": {},
          "execution_count": 8
        },
        {
          "output_type": "display_data",
          "data": {
            "text/plain": [
              "<Figure size 640x480 with 1 Axes>"
            ],
            "image/png": "[encoded data removed]"
          },
          "metadata": {}
        }
      ]
    },
    {
      "cell_type": "code",
      "source": [
        "#data preprocessing\n",
        "def data_preprocess(self)"
      ],
      "metadata": {
        "id": "ZMljhAiVR51J"
      },
      "execution_count": null,
      "outputs": []
    },
    {
      "cell_type": "code",
      "source": [
        "#data preprocessing\n",
        "x = dataframe.iloc[:,0:-1]\n",
        "y = dataframe.iloc[:,-1]"
      ],
      "metadata": {
        "id": "_yb3aDMnrpDX"
      },
      "execution_count": null,
      "outputs": []
    },
    {
      "cell_type": "code",
      "source": [
        "x.shape"
      ],
      "metadata": {
        "colab": {
          "base_uri": "https://localhost:8080/"
        },
        "id": "OEQ9Bs1ovAH4",
        "outputId": "c4e50b84-03e7-4959-d21f-b962679f6749"
      },
      "execution_count": null,
      "outputs": [
        {
          "output_type": "execute_result",
          "data": {
            "text/plain": [
              "(801, 8000)"
            ]
          },
          "metadata": {},
          "execution_count": 10
        }
      ]
    },
    {
      "cell_type": "code",
      "source": [
        "y.shape"
      ],
      "metadata": {
        "colab": {
          "base_uri": "https://localhost:8080/"
        },
        "id": "nufhluEevDI7",
        "outputId": "552a65a3-30a5-4b06-fc20-5faaeaa515ad"
      },
      "execution_count": null,
      "outputs": [
        {
          "output_type": "execute_result",
          "data": {
            "text/plain": [
              "(801,)"
            ]
          },
          "metadata": {},
          "execution_count": 11
        }
      ]
    },
    {
      "cell_type": "code",
      "source": [
        "#encode labels\n",
        "label_encoder=LabelEncoder()\n",
        "label_encoder.fit(y)\n",
        "y_encoded=label_encoder.transform(y)\n",
        "labels=label_encoder.classes_\n",
        "classes=np.unique(y_encoded)"
      ],
      "metadata": {
        "id": "Dr3vCiyVtrG7"
      },
      "execution_count": null,
      "outputs": []
    },
    {
      "cell_type": "code",
      "source": [
        "#data splitting\n",
        "x_train,x_test, y_train, y_test = train_test_split(x,y_encoded, test_size=0.2,random_state=42)"
      ],
      "metadata": {
        "id": "sb06Am4XwlhL"
      },
      "execution_count": null,
      "outputs": []
    },
    {
      "cell_type": "code",
      "source": [
        "#scale data beteeen 0 nad 1\n",
        "min_max_scaler=MinMaxScaler()\n",
        "x_train_norm=min_max_scaler.fit_transform(x_train)\n",
        "x_test_norm=min_max_scaler.fit_transform(x_test)\n",
        "\n"
      ],
      "metadata": {
        "id": "gX-IYdHwxIgc"
      },
      "execution_count": null,
      "outputs": []
    },
    {
      "cell_type": "code",
      "source": [
        "type(x_train)"
      ],
      "metadata": {
        "colab": {
          "base_uri": "https://localhost:8080/"
        },
        "id": "vDJgBvjMyZvQ",
        "outputId": "c9c48daf-3615-4b90-df0a-71e68f9a0a84"
      },
      "execution_count": null,
      "outputs": [
        {
          "output_type": "execute_result",
          "data": {
            "text/plain": [
              "pandas.core.frame.DataFrame"
            ]
          },
          "metadata": {},
          "execution_count": 15
        }
      ]
    },
    {
      "cell_type": "code",
      "source": [
        "x_train.iloc[0,3]"
      ],
      "metadata": {
        "colab": {
          "base_uri": "https://localhost:8080/"
        },
        "id": "1eq7ToolylCe",
        "outputId": "9a85accf-dc1d-4610-9bb5-e0b01e02e65b"
      },
      "execution_count": null,
      "outputs": [
        {
          "output_type": "execute_result",
          "data": {
            "text/plain": [
              "2.18164326123"
            ]
          },
          "metadata": {},
          "execution_count": 16
        }
      ]
    },
    {
      "cell_type": "code",
      "source": [
        "x_train_norm[0,3]"
      ],
      "metadata": {
        "colab": {
          "base_uri": "https://localhost:8080/"
        },
        "id": "scbNMbXUypwU",
        "outputId": "8601be0b-0ce6-4df0-870b-b9af2d3abac6"
      },
      "execution_count": null,
      "outputs": [
        {
          "output_type": "execute_result",
          "data": {
            "text/plain": [
              "0.4671305057022768"
            ]
          },
          "metadata": {},
          "execution_count": 17
        }
      ]
    },
    {
      "cell_type": "code",
      "source": [
        "#feature selection\n",
        "MI=mutual_info_classif(x_train_norm, y_train)"
      ],
      "metadata": {
        "id": "CzJkOjTzywrb"
      },
      "execution_count": null,
      "outputs": []
    },
    {
      "cell_type": "code",
      "source": [
        "n_features=300\n",
        "selected_scores_indices=np.argsort(MI)[::-1][0:n_features]"
      ],
      "metadata": {
        "id": "4JxYd8S_zUUE"
      },
      "execution_count": null,
      "outputs": []
    },
    {
      "cell_type": "code",
      "source": [
        "x_train_selected=x_train_norm[:, selected_scores_indices]\n",
        "x_test_selected=x_test_norm[:,selected_scores_indices]"
      ],
      "metadata": {
        "id": "MpAZKB-IzpvP"
      },
      "execution_count": null,
      "outputs": []
    }
  ]
}