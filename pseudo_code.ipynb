{
  "nbformat": 4,
  "nbformat_minor": 0,
  "metadata": {
    "colab": {
      "provenance": [],
      "authorship_tag": "ABX9TyMyKhqZE89BBfCh/aKEX8LB",
      "include_colab_link": true
    },
    "kernelspec": {
      "name": "python3",
      "display_name": "Python 3"
    },
    "language_info": {
      "name": "python"
    }
  },
  "cells": [
    {
      "cell_type": "markdown",
      "metadata": {
        "id": "view-in-github",
        "colab_type": "text"
      },
      "source": [
        "<a href=\"https://colab.research.google.com/github/poku0857643/Cancer-classification/blob/main/pseudo_code.ipynb\" target=\"_parent\"><img src=\"https://colab.research.google.com/assets/colab-badge.svg\" alt=\"Open In Colab\"/></a>"
      ]
    },
    {
      "cell_type": "markdown",
      "source": [
        "#**Cancer Classification**"
      ],
      "metadata": {
        "id": "0PGPbKRvuKG2"
      }
    },
    {
      "cell_type": "markdown",
      "source": [
        "\n"
      ],
      "metadata": {
        "id": "d5J3wk-EEs1p"
      }
    },
    {
      "cell_type": "code",
      "source": [
        "#pseodo code of cancer classification overall pipeline\n",
        "1. Start\n",
        "\n",
        "2. function data_preprocessing (input: raw data)\n",
        "-read\n",
        "-handle missing value\n",
        "-normalization data\n",
        "-train test split\n",
        "-return processed_train_data, precessed_test_data\n",
        "\n",
        "3. function feature_selection (input: processed_train_data, processed_train_data_labels)\n",
        "-feature selection method\n",
        "-select the top features based on the method's criteria\n",
        "-return selected_feature\n",
        "\n",
        "4. function RF_model(input: train_data_with_selected_features, train_labels)\n",
        "-create a OneVsRestClassifier using RandomForestClassifer\n",
        "-train the model with train_data_with_selected_features and train_labels\n",
        "-retunr: trained_RF_model\n",
        "\n",
        "5. Function performance_evaluation(input: trained_mdoel, test_data, test_labels)\n",
        "-use trained_model to predict on test_data\n",
        "-calculate accuracy, precision, recall and f1-score\n",
        "-generate a classification report\n",
        "-print all evaluation metrics\n",
        "-return evaluation_metrics\n",
        "\n",
        "6. Function generate_cm_dataframe(input:y_true, y_pred, labels):\n",
        "-call confusion matrix using y_true and y_pred\n",
        "-display confusion matrix on dataframe\n",
        "-return cm_df\n",
        "\n",
        "7. Function plot_confusion)matrix(cm_df):\n",
        "-plot confusion matrix using seaborn heatmap\n",
        "\n",
        "\n",
        "8. Function plot_multiclass_roc(y_test, pred_prob, classed, labels):\n",
        "-calculate FPR, TPR, threshold, ROC-AUC\n",
        "-plot FPR, TPR, threshold, ROC\n",
        "\n",
        "9. Main\n",
        "-raw_data = laod cancer data\n",
        "-train_data, test_data = data_preprocessing(raw_data)\n",
        "-selected_features = feature_selection(train_data, train_labels)\n",
        "-trained_RF = RF_model(train_data[selected_features], train_labels)\n",
        "-performance_evaluation(trained_RF, test_data[selected_features], test_labels)\n",
        "-generate_cm_dataframe(y_test, y_pred, labels)\n",
        "-plot_cm_dataframe(cm_df)\n",
        "-plot ROC, threshold, FPR, TPR"
      ],
      "metadata": {
        "id": "8nXYmGvnEn7G"
      },
      "execution_count": null,
      "outputs": []
    }
  ]
}